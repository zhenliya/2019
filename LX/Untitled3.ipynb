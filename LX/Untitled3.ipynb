{
 "cells": [
  {
   "cell_type": "code",
   "execution_count": 4,
   "metadata": {},
   "outputs": [],
   "source": [
    "import pandas as pd"
   ]
  },
  {
   "cell_type": "code",
   "execution_count": 6,
   "metadata": {},
   "outputs": [],
   "source": [
    "data = pd.read_csv('bank-data.csv')"
   ]
  },
  {
   "cell_type": "code",
   "execution_count": 9,
   "metadata": {},
   "outputs": [
    {
     "name": "stdout",
     "output_type": "stream",
     "text": [
      "          id  age     sex      region    income married  children  car  \\\n",
      "0    ID12101   48  FEMALE  INNER_CITY  17546.00      NO         1   NO   \n",
      "1    ID12102   40    MALE        TOWN  30085.10     YES         3  YES   \n",
      "2    ID12103   51  FEMALE  INNER_CITY  16575.40     YES         0  YES   \n",
      "3    ID12104   23  FEMALE        TOWN  20375.40     YES         3   NO   \n",
      "4    ID12105   57  FEMALE       RURAL  50576.30     YES         0   NO   \n",
      "5    ID12106   57  FEMALE        TOWN  37869.60     YES         2   NO   \n",
      "6    ID12107   22    MALE       RURAL   8877.07      NO         0   NO   \n",
      "7    ID12108   58    MALE        TOWN  24946.60     YES         0  YES   \n",
      "8    ID12109   37  FEMALE    SUBURBAN  25304.30     YES         2  YES   \n",
      "9    ID12110   54    MALE        TOWN  24212.10     YES         2  YES   \n",
      "10   ID12111   66  FEMALE        TOWN  59803.90     YES         0   NO   \n",
      "11   ID12112   52  FEMALE  INNER_CITY  26658.80      NO         0  YES   \n",
      "12   ID12113   44  FEMALE        TOWN  15735.80     YES         1   NO   \n",
      "13   ID12114   66  FEMALE        TOWN  55204.70     YES         1  YES   \n",
      "14   ID12115   36    MALE       RURAL  19474.60     YES         0   NO   \n",
      "15   ID12116   38  FEMALE  INNER_CITY  22342.10     YES         0  YES   \n",
      "16   ID12117   37  FEMALE        TOWN  17729.80     YES         2   NO   \n",
      "17   ID12118   46  FEMALE    SUBURBAN  41016.00     YES         0   NO   \n",
      "18   ID12119   62  FEMALE  INNER_CITY  26909.20     YES         0   NO   \n",
      "19   ID12120   31    MALE        TOWN  22522.80     YES         0  YES   \n",
      "20   ID12121   61    MALE  INNER_CITY  57880.70     YES         2   NO   \n",
      "21   ID12122   50    MALE        TOWN  16497.30     YES         2   NO   \n",
      "22   ID12123   54    MALE  INNER_CITY  38446.60     YES         0   NO   \n",
      "23   ID12124   27  FEMALE        TOWN  15538.80      NO         0  YES   \n",
      "24   ID12125   22    MALE  INNER_CITY  12640.30      NO         2  YES   \n",
      "25   ID12126   56    MALE  INNER_CITY  41034.00     YES         0  YES   \n",
      "26   ID12127   45    MALE  INNER_CITY  20809.70     YES         0   NO   \n",
      "27   ID12128   39  FEMALE        TOWN  20114.00     YES         1   NO   \n",
      "28   ID12129   39  FEMALE  INNER_CITY  29359.10      NO         3  YES   \n",
      "29   ID12130   61    MALE       RURAL  24270.10     YES         1   NO   \n",
      "..       ...  ...     ...         ...       ...     ...       ...  ...   \n",
      "570  ID12671   49  FEMALE       RURAL  33665.50      NO         3  YES   \n",
      "571  ID12672   40    MALE  INNER_CITY  36166.20     YES         0   NO   \n",
      "572  ID12673   33  FEMALE    SUBURBAN  27712.90      NO         2   NO   \n",
      "573  ID12674   39    MALE        TOWN  22400.70     YES         2  YES   \n",
      "574  ID12675   43  FEMALE  INNER_CITY  28469.90     YES         0  YES   \n",
      "575  ID12676   37    MALE        TOWN  30488.00     YES         0   NO   \n",
      "576  ID12677   24  FEMALE        TOWN  19160.30     YES         1  YES   \n",
      "577  ID12678   62    MALE        TOWN  45342.50     YES         0  YES   \n",
      "578  ID12679   18    MALE  INNER_CITY   6294.21      NO         0   NO   \n",
      "579  ID12680   47  FEMALE        TOWN  25127.70     YES         0  YES   \n",
      "580  ID12681   63    MALE    SUBURBAN  51879.30     YES         2  YES   \n",
      "581  ID12682   20    MALE        TOWN  12644.90     YES         2  YES   \n",
      "582  ID12683   46  FEMALE        TOWN  21984.40      NO         3   NO   \n",
      "583  ID12684   47  FEMALE       RURAL  29093.10      NO         2  YES   \n",
      "584  ID12685   33    MALE        TOWN  23528.40     YES         1   NO   \n",
      "585  ID12686   20    MALE        TOWN   9516.91      NO         3  YES   \n",
      "586  ID12687   20    MALE  INNER_CITY  18364.90     YES         1   NO   \n",
      "587  ID12688   43  FEMALE        TOWN  31273.80      NO         1  YES   \n",
      "588  ID12689   58    MALE       RURAL  49673.60     YES         0   NO   \n",
      "589  ID12690   29    MALE    SUBURBAN  12623.40     YES         1  YES   \n",
      "590  ID12691   25    MALE  INNER_CITY  23818.60     YES         0   NO   \n",
      "591  ID12692   40  FEMALE  INNER_CITY  31473.90      NO         2   NO   \n",
      "592  ID12693   48    MALE        TOWN  20268.00     YES         0   NO   \n",
      "593  ID12694   65    MALE    SUBURBAN  51417.00     YES         2   NO   \n",
      "594  ID12695   59  FEMALE       RURAL  30971.80     YES         3  YES   \n",
      "595  ID12696   61  FEMALE  INNER_CITY  47025.00      NO         2  YES   \n",
      "596  ID12697   30  FEMALE  INNER_CITY   9672.25     YES         0  YES   \n",
      "597  ID12698   31  FEMALE        TOWN  15976.30     YES         0  YES   \n",
      "598  ID12699   29    MALE  INNER_CITY  14711.80     YES         0   NO   \n",
      "599  ID12700   38    MALE        TOWN  26671.60      NO         0  YES   \n",
      "\n",
      "    save_act current_act mortgage  pep  \n",
      "0         NO          NO       NO  YES  \n",
      "1         NO         YES      YES   NO  \n",
      "2        YES         YES       NO   NO  \n",
      "3         NO         YES       NO   NO  \n",
      "4        YES          NO       NO   NO  \n",
      "5        YES         YES       NO  YES  \n",
      "6         NO         YES       NO  YES  \n",
      "7        YES         YES       NO   NO  \n",
      "8         NO          NO       NO   NO  \n",
      "9        YES         YES       NO   NO  \n",
      "10       YES         YES       NO   NO  \n",
      "11       YES         YES      YES   NO  \n",
      "12       YES         YES      YES  YES  \n",
      "13       YES         YES      YES  YES  \n",
      "14       YES         YES      YES   NO  \n",
      "15       YES         YES      YES   NO  \n",
      "16        NO          NO      YES   NO  \n",
      "17       YES          NO      YES   NO  \n",
      "18       YES          NO       NO  YES  \n",
      "19       YES         YES       NO   NO  \n",
      "20       YES          NO       NO  YES  \n",
      "21       YES         YES       NO   NO  \n",
      "22       YES         YES       NO   NO  \n",
      "23       YES         YES      YES   NO  \n",
      "24       YES         YES       NO   NO  \n",
      "25       YES         YES      YES   NO  \n",
      "26       YES         YES      YES   NO  \n",
      "27        NO         YES       NO  YES  \n",
      "28        NO         YES      YES   NO  \n",
      "29        NO         YES       NO  YES  \n",
      "..       ...         ...      ...  ...  \n",
      "570       NO         YES       NO   NO  \n",
      "571       NO          NO       NO   NO  \n",
      "572      YES         YES       NO  YES  \n",
      "573      YES         YES       NO   NO  \n",
      "574      YES         YES       NO   NO  \n",
      "575      YES         YES      YES   NO  \n",
      "576      YES         YES       NO  YES  \n",
      "577      YES          NO       NO  YES  \n",
      "578      YES         YES      YES   NO  \n",
      "579       NO          NO       NO   NO  \n",
      "580      YES          NO      YES  YES  \n",
      "581       NO         YES      YES   NO  \n",
      "582      YES          NO       NO   NO  \n",
      "583      YES         YES       NO   NO  \n",
      "584      YES         YES      YES  YES  \n",
      "585      YES         YES       NO   NO  \n",
      "586       NO         YES       NO  YES  \n",
      "587      YES          NO       NO  YES  \n",
      "588      YES         YES       NO   NO  \n",
      "589      YES         YES       NO   NO  \n",
      "590       NO          NO       NO   NO  \n",
      "591      YES         YES      YES  YES  \n",
      "592      YES         YES       NO   NO  \n",
      "593      YES         YES       NO  YES  \n",
      "594      YES         YES      YES   NO  \n",
      "595      YES         YES      YES   NO  \n",
      "596      YES         YES       NO   NO  \n",
      "597      YES          NO       NO  YES  \n",
      "598      YES          NO      YES   NO  \n",
      "599       NO         YES      YES  YES  \n",
      "\n",
      "[600 rows x 12 columns]\n"
     ]
    }
   ],
   "source": [
    "print(data)"
   ]
  },
  {
   "cell_type": "code",
   "execution_count": 11,
   "metadata": {},
   "outputs": [],
   "source": [
    "df = pd.read_csv('input_data.csv')"
   ]
  },
  {
   "cell_type": "code",
   "execution_count": 13,
   "metadata": {},
   "outputs": [
    {
     "name": "stdout",
     "output_type": "stream",
     "text": [
      "   square_feet  price\n",
      "0          150   6450\n",
      "1          200   7450\n",
      "2          250   8450\n",
      "3          300   9450\n",
      "4          350  11450\n",
      "5          400  15450\n",
      "6          600  18450\n"
     ]
    }
   ],
   "source": [
    "print(df)"
   ]
  },
  {
   "cell_type": "code",
   "execution_count": null,
   "metadata": {},
   "outputs": [],
   "source": []
  }
 ],
 "metadata": {
  "kernelspec": {
   "display_name": "Python 3",
   "language": "python",
   "name": "python3"
  },
  "language_info": {
   "codemirror_mode": {
    "name": "ipython",
    "version": 3
   },
   "file_extension": ".py",
   "mimetype": "text/x-python",
   "name": "python",
   "nbconvert_exporter": "python",
   "pygments_lexer": "ipython3",
   "version": "3.6.5"
  }
 },
 "nbformat": 4,
 "nbformat_minor": 2
}
