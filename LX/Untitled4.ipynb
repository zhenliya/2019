{
 "cells": [
  {
   "cell_type": "code",
   "execution_count": 4,
   "metadata": {},
   "outputs": [],
   "source": [
    "import matplotlib.pyplot as plt"
   ]
  },
  {
   "cell_type": "code",
   "execution_count": 5,
   "metadata": {},
   "outputs": [],
   "source": [
    "import numpy as np"
   ]
  },
  {
   "cell_type": "code",
   "execution_count": 6,
   "metadata": {},
   "outputs": [],
   "source": [
    "import pandas as pd"
   ]
  },
  {
   "cell_type": "code",
   "execution_count": 7,
   "metadata": {},
   "outputs": [],
   "source": [
    "from sklearn import datasets, linear_model"
   ]
  },
  {
   "cell_type": "code",
   "execution_count": 8,
   "metadata": {},
   "outputs": [],
   "source": [
    "# Function to get data\n",
    "def get_data(file_name):\n",
    " data = pd.read_csv(file_name)  #here ,use pandas to read cvs file.\n",
    " X_parameter = []\n",
    " Y_parameter = []\n",
    " for single_square_feet ,single_price_value in zip(data['square_feet'],data['price']):#遍历数据，\n",
    "       X_parameter.append([float(single_square_feet)])#存储在相应的list列表中\n",
    "       Y_parameter.append(float(single_price_value))\n",
    " return X_parameter,Y_parameter\n"
   ]
  },
  {
   "cell_type": "code",
   "execution_count": 9,
   "metadata": {},
   "outputs": [],
   "source": [
    "#Function for Fitting our data to Linear model\n",
    "def linear_model_main(X_parameters,Y_parameters,predict_value):\n",
    " \n",
    " # Create linear regression object\n",
    " regr = linear_model.LinearRegression()\n",
    " regr.fit(X_parameters, Y_parameters)   #train model\n",
    " predict_outcome = regr.predict(predict_value)\n",
    " predictions = {}\n",
    " predictions['intercept'] = regr.intercept_\n",
    " predictions['coefficient'] = regr.coef_\n",
    " predictions['predicted_value'] = predict_outcome\n",
    " return predictions\n"
   ]
  },
  {
   "cell_type": "code",
   "execution_count": 16,
   "metadata": {},
   "outputs": [
    {
     "name": "stdout",
     "output_type": "stream",
     "text": [
      "Intercept value  1780.8711760863025\n",
      "coefficient [28.67347349]\n",
      "Predicted value:  [21852.30262239]\n"
     ]
    }
   ],
   "source": [
    "X,Y = get_data('input_data.csv')\n",
    "predictvalue = 700\n",
    "result = linear_model_main(X,Y,predictvalue)\n",
    "print (\"Intercept value \" , result['intercept'])\n",
    "print (\"coefficient\" , result['coefficient'])\n",
    "print (\"Predicted value: \",result['predicted_value'])\n"
   ]
  },
  {
   "cell_type": "code",
   "execution_count": 17,
   "metadata": {},
   "outputs": [],
   "source": [
    "# Function to show the resutls of linear fit model\n",
    "def show_linear_line(X_parameters,Y_parameters):\n",
    " # Create linear regression object\n",
    " regr = linear_model.LinearRegression()\n",
    " regr.fit(X_parameters, Y_parameters)\n",
    " plt.scatter(X_parameters,Y_parameters,color='blue')\n",
    " plt.plot(X_parameters,regr.predict(X_parameters),color='red',linewidth=4)\n",
    " plt.xticks(())\n",
    " plt.yticks(())\n",
    " plt.xlabel('population')\n",
    " plt.ylabel('Sales volume')\n",
    " plt.show()\n"
   ]
  },
  {
   "cell_type": "code",
   "execution_count": 18,
   "metadata": {},
   "outputs": [
    {
     "data": {
      "image/png": "[encoded data removed]",
      "text/plain": [
       "<Figure size 432x288 with 1 Axes>"
      ]
     },
     "metadata": {},
     "output_type": "display_data"
    }
   ],
   "source": [
    "show_linear_line(X,Y)"
   ]
  },
  {
   "cell_type": "code",
   "execution_count": 2,
   "metadata": {},
   "outputs": [
    {
     "name": "stdout",
     "output_type": "stream",
     "text": [
      "hello\n"
     ]
    }
   ],
   "source": [
    "print(\"hello\")"
   ]
  },
  {
   "cell_type": "code",
   "execution_count": 3,
   "metadata": {},
   "outputs": [
    {
     "name": "stdout",
     "output_type": "stream",
     "text": [
      "hello\n"
     ]
    }
   ],
   "source": [
    "print(\"hello\")"
   ]
  },
  {
   "cell_type": "code",
   "execution_count": null,
   "metadata": {},
   "outputs": [],
   "source": []
  }
 ],
 "metadata": {
  "kernelspec": {
   "display_name": "Python 3",
   "language": "python",
   "name": "python3"
  },
  "language_info": {
   "codemirror_mode": {
    "name": "ipython",
    "version": 3
   },
   "file_extension": ".py",
   "mimetype": "text/x-python",
   "name": "python",
   "nbconvert_exporter": "python",
   "pygments_lexer": "ipython3",
   "version": "3.6.5"
  }
 },
 "nbformat": 4,
 "nbformat_minor": 2
}
