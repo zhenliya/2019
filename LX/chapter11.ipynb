{
 "cells": [
  {
   "cell_type": "code",
   "execution_count": 1,
   "metadata": {},
   "outputs": [],
   "source": [
    "from numpy import *"
   ]
  },
  {
   "cell_type": "code",
   "execution_count": 2,
   "metadata": {},
   "outputs": [],
   "source": [
    "def loadDataSet():\n",
    "    return [[1, 3, 4], [2, 3, 5], [1, 2, 3, 5], [2, 5]]"
   ]
  },
  {
   "cell_type": "code",
   "execution_count": 3,
   "metadata": {},
   "outputs": [],
   "source": [
    "def createC1(dataSet):\n",
    "    C1 = []\n",
    "    for transaction in dataSet:\n",
    "        for item in transaction:\n",
    "            if not [item] in C1:\n",
    "                C1.append([item])\n",
    "                \n",
    "    C1.sort()\n",
    "    return list(map(frozenset, C1))#use frozen set so we\n",
    "                            #can use it as a key in a dict"
   ]
  },
  {
   "cell_type": "code",
   "execution_count": 4,
   "metadata": {},
   "outputs": [],
   "source": [
    "def scanD(D,Ck,minSupport):\n",
    "    '''\n",
    "    D：数据集  Ck：候选项集列表 minSupport：最小支持度\n",
    "    '''\n",
    "    ssCnt={}                      #创建空字典\n",
    "    for tid in D:        \n",
    "        for can in Ck:            \n",
    "            if can.issubset(tid):\n",
    "                if not ssCnt. __contains__(can): #与课本不同，python3没有has_key()\n",
    "                    ssCnt[can]=1\n",
    "                else:\n",
    "                    ssCnt[can]+=1\n",
    "                                \n",
    "    numItems=len(list(D))    \n",
    "    retList=[]\n",
    "    supportData={}\n",
    "    for key in ssCnt:\n",
    "        support=ssCnt[key]/numItems\n",
    "        if support>=minSupport:\n",
    "            retList.insert(0,key)  #在列表手部插入关键值\n",
    "        supportData[key]=support\n",
    "        \n",
    "    return retList,supportData"
   ]
  },
  {
   "cell_type": "code",
   "execution_count": 5,
   "metadata": {},
   "outputs": [],
   "source": [
    "def aprioriGen(Lk, k): #creates Ck\n",
    "    retList = []\n",
    "    lenLk = len(Lk)\n",
    "    for i in range(lenLk):\n",
    "        for j in range(i+1, lenLk): \n",
    "            L1 = list(Lk[i])[:k-2]; L2 = list(Lk[j])[:k-2]\n",
    "            L1.sort(); L2.sort()\n",
    "            if L1==L2: #if first k-2 elements are equal\n",
    "                retList.append(Lk[i] | Lk[j]) #set union\n",
    "    return retList"
   ]
  },
  {
   "cell_type": "code",
   "execution_count": 6,
   "metadata": {},
   "outputs": [],
   "source": [
    "def apriori(dataSet, minSupport = 0.5):\n",
    "    C1 = createC1(dataSet)\n",
    "    D = map(set, dataSet)\n",
    "    L1, supportData = scanD(D, C1, minSupport)\n",
    "    L = [L1]\n",
    "    k = 2\n",
    "    while (len(L[k-2]) > 0):\n",
    "        Ck = aprioriGen(L[k-2], k)\n",
    "        Lk, supK = scanD(D, Ck, minSupport)#scan DB to get Lk\n",
    "        supportData.update(supK)\n",
    "        L.append(Lk)\n",
    "        k += 1\n",
    "    return L, supportData"
   ]
  },
  {
   "cell_type": "code",
   "execution_count": 7,
   "metadata": {},
   "outputs": [],
   "source": [
    "def generateRules(L, supportData, minConf=0.7):  #supportData is a dict coming from scanD\n",
    "    bigRuleList = []\n",
    "    for i in range(1, len(L)):#only get the sets with two or more items\n",
    "        for freqSet in L[i]:\n",
    "            H1 = [frozenset([item]) for item in freqSet]\n",
    "            if (i > 1):\n",
    "                rulesFromConseq(freqSet, H1, supportData, bigRuleList, minConf)\n",
    "            else:\n",
    "                calcConf(freqSet, H1, supportData, bigRuleList, minConf)\n",
    "    return bigRuleList "
   ]
  },
  {
   "cell_type": "code",
   "execution_count": 8,
   "metadata": {},
   "outputs": [],
   "source": [
    "def calcConf(freqSet, H, supportData, brl, minConf=0.7):\n",
    "    prunedH = [] #create new list to return\n",
    "    for conseq in H:\n",
    "        conf = supportData[freqSet]/supportData[freqSet-conseq] #calc confidence\n",
    "        if conf >= minConf: \n",
    "            print(freqSet-conseq,'-->',conseq,'conf:',conf)\n",
    "            brl.append((freqSet-conseq, conseq, conf))\n",
    "            prunedH.append(conseq)\n",
    "    return prunedH"
   ]
  },
  {
   "cell_type": "code",
   "execution_count": 9,
   "metadata": {},
   "outputs": [],
   "source": [
    "def rulesFromConseq(freqSet, H, supportData, brl, minConf=0.7):\n",
    "    m = len(H[0])\n",
    "    if (len(freqSet) > (m + 1)): #try further merging\n",
    "        Hmp1 = aprioriGen(H, m+1)#create Hm+1 new candidates\n",
    "        Hmp1 = calcConf(freqSet, Hmp1, supportData, brl, minConf)\n",
    "        if (len(Hmp1) > 1):    #need at least two sets to merge\n",
    "            rulesFromConseq(freqSet, Hmp1, supportData, brl, minConf)"
   ]
  },
  {
   "cell_type": "code",
   "execution_count": 10,
   "metadata": {},
   "outputs": [],
   "source": [
    "def pntRules(ruleList, itemMeaning):\n",
    "    for ruleTup in ruleList:\n",
    "        for item in ruleTup[0]:\n",
    "            print(itemMeaning[item])\n",
    "        print(\"           -------->\")\n",
    "        for item in ruleTup[1]:\n",
    "            print(itemMeaning[item])\n",
    "        print(\"confidence: %f\" % ruleTup[2])\n",
    "        print(\"\")       #print a blank line"
   ]
  },
  {
   "cell_type": "code",
   "execution_count": 15,
   "metadata": {},
   "outputs": [],
   "source": [
    "from time import sleep\n",
    "from votesmart import votesmart\n",
    "votesmart.apikey = 'a7fa40adec6f4a77178799fae4441030'"
   ]
  },
  {
   "cell_type": "code",
   "execution_count": 16,
   "metadata": {},
   "outputs": [],
   "source": [
    "def getActionIds():\n",
    "    actionIdList = []; billTitleList = []\n",
    "    fr = open('recent20bills.txt') \n",
    "    for line in fr.readlines():\n",
    "        billNum = int(line.split('\\t')[0])\n",
    "        try:\n",
    "            billDetail = votesmart.votes.getBill(billNum) #api call\n",
    "            for action in billDetail.actions:\n",
    "                if action.level == 'House' and \\\n",
    "                (action.stage == 'Passage' or action.stage == 'Amendment Vote'):\n",
    "                    actionId = int(action.actionId)\n",
    "                    print('bill: %d has actionId: %d' % (billNum, actionId))\n",
    "                    actionIdList.append(actionId)\n",
    "                    billTitleList.append(line.strip().split('\\t')[1])\n",
    "        except:\n",
    "            print(\"problem getting bill %d\" % billNum)\n",
    "        sleep(1)                                      #delay to be polite\n",
    "    return actionIdList, billTitleList"
   ]
  },
  {
   "cell_type": "code",
   "execution_count": 17,
   "metadata": {},
   "outputs": [],
   "source": [
    "def getTransList(actionIdList, billTitleList): #this will return a list of lists containing ints\n",
    "    itemMeaning = ['Republican', 'Democratic']#list of what each item stands for\n",
    "    for billTitle in billTitleList:#fill up itemMeaning list\n",
    "        itemMeaning.append('%s -- Nay' % billTitle)\n",
    "        itemMeaning.append('%s -- Yea' % billTitle)\n",
    "    transDict = {}#list of items in each transaction (politician) \n",
    "    voteCount = 2\n",
    "    for actionId in actionIdList:\n",
    "        sleep(3)\n",
    "        print('getting votes for actionId: %d' % actionId)\n",
    "        try:\n",
    "            voteList = votesmart.votes.getBillActionVotes(actionId)\n",
    "            for vote in voteList:\n",
    "                if not transDict.has_key(vote.candidateName): \n",
    "                    transDict[vote.candidateName] = []\n",
    "                    if vote.officeParties == 'Democratic':\n",
    "                        transDict[vote.candidateName].append(1)\n",
    "                    elif vote.officeParties == 'Republican':\n",
    "                        transDict[vote.candidateName].append(0)\n",
    "                if vote.action == 'Nay':\n",
    "                    transDict[vote.candidateName].append(voteCount)\n",
    "                elif vote.action == 'Yea':\n",
    "                    transDict[vote.candidateName].append(voteCount + 1)\n",
    "        except: \n",
    "            print(\"problem getting actionId: %d\" % actionId)\n",
    "        voteCount += 2\n",
    "    return transDict, itemMeaning"
   ]
  },
  {
   "cell_type": "code",
   "execution_count": 18,
   "metadata": {},
   "outputs": [
    {
     "name": "stdout",
     "output_type": "stream",
     "text": [
      "[[1, 3, 4], [2, 3, 5], [1, 2, 3, 5], [2, 5]]\n"
     ]
    }
   ],
   "source": [
    "#测试\n",
    "dataSet=loadDataSet()\n",
    "print(dataSet)"
   ]
  },
  {
   "cell_type": "code",
   "execution_count": 19,
   "metadata": {},
   "outputs": [
    {
     "name": "stdout",
     "output_type": "stream",
     "text": [
      "[frozenset({1}), frozenset({2}), frozenset({3}), frozenset({4}), frozenset({5})]\n"
     ]
    }
   ],
   "source": [
    "C1=createC1(dataSet)\n",
    "print(C1)"
   ]
  },
  {
   "cell_type": "code",
   "execution_count": 20,
   "metadata": {},
   "outputs": [
    {
     "name": "stdout",
     "output_type": "stream",
     "text": [
      "[{1, 3, 4}, {2, 3, 5}, {1, 2, 3, 5}, {2, 5}]\n"
     ]
    }
   ],
   "source": [
    "D=map(set,dataSet)\n",
    "print(list(D))"
   ]
  },
  {
   "cell_type": "code",
   "execution_count": 21,
   "metadata": {},
   "outputs": [
    {
     "name": "stdout",
     "output_type": "stream",
     "text": [
      "[]\n"
     ]
    }
   ],
   "source": [
    "L1,supportData0=scanD(D,C1,0.5)\n",
    "print(L1)"
   ]
  },
  {
   "cell_type": "code",
   "execution_count": null,
   "metadata": {},
   "outputs": [],
   "source": []
  }
 ],
 "metadata": {
  "kernelspec": {
   "display_name": "Python 3",
   "language": "python",
   "name": "python3"
  },
  "language_info": {
   "codemirror_mode": {
    "name": "ipython",
    "version": 3
   },
   "file_extension": ".py",
   "mimetype": "text/x-python",
   "name": "python",
   "nbconvert_exporter": "python",
   "pygments_lexer": "ipython3",
   "version": "3.6.5"
  }
 },
 "nbformat": 4,
 "nbformat_minor": 2
}
